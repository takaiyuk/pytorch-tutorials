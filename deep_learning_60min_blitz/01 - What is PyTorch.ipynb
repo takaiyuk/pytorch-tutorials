{
 "cells": [
  {
   "cell_type": "markdown",
   "metadata": {},
   "source": [
    "## WHAT IS PYTORCH?\n",
    "\n",
    "https://pytorch.org/tutorials/beginner/blitz/tensor_tutorial.html#sphx-glr-beginner-blitz-tensor-tutorial-py"
   ]
  },
  {
   "cell_type": "markdown",
   "metadata": {},
   "source": [
    "### Tensors\n",
    "\n",
    "Tensors are similar to NumPy’s ndarrays, with the addition being that Tensors can also be used on a GPU to accelerate computing."
   ]
  },
  {
   "cell_type": "code",
   "execution_count": 1,
   "metadata": {},
   "outputs": [],
   "source": [
    "import torch"
   ]
  },
  {
   "cell_type": "code",
   "execution_count": 6,
   "metadata": {},
   "outputs": [
    {
     "name": "stdout",
     "output_type": "stream",
     "text": [
      "tensor([[0.0000e+00, 0.0000e+00, 0.0000e+00],\n",
      "        [0.0000e+00, 1.8217e-44, 0.0000e+00],\n",
      "        [0.0000e+00, 0.0000e+00, 0.0000e+00],\n",
      "        [0.0000e+00, 0.0000e+00, 0.0000e+00],\n",
      "        [0.0000e+00, 0.0000e+00, 0.0000e+00]])\n"
     ]
    }
   ],
   "source": [
    "# Construct a 5x3 matrix, uninitialized:\n",
    "def torch_uninitialize():\n",
    "    x = torch.empty(5, 3)\n",
    "    print(x)\n",
    "    \n",
    "torch_initialize()"
   ]
  },
  {
   "cell_type": "code",
   "execution_count": 7,
   "metadata": {},
   "outputs": [
    {
     "name": "stdout",
     "output_type": "stream",
     "text": [
      "tensor([[0.8621, 0.2013, 0.6311],\n",
      "        [0.1025, 0.3390, 0.7255],\n",
      "        [0.0917, 0.1638, 0.5776],\n",
      "        [0.4536, 0.8610, 0.7851],\n",
      "        [0.2457, 0.4535, 0.8394]])\n"
     ]
    }
   ],
   "source": [
    "# Construct a randomly initialized matrix:\n",
    "def torch_random_initialize():\n",
    "    x = torch.rand(5, 3)\n",
    "    print(x)\n",
    "    \n",
    "torch_random_initialize()"
   ]
  },
  {
   "cell_type": "code",
   "execution_count": 8,
   "metadata": {},
   "outputs": [
    {
     "name": "stdout",
     "output_type": "stream",
     "text": [
      "tensor([[0, 0, 0],\n",
      "        [0, 0, 0],\n",
      "        [0, 0, 0],\n",
      "        [0, 0, 0],\n",
      "        [0, 0, 0]])\n"
     ]
    }
   ],
   "source": [
    "# Construct a matrix filled zeros and of dtype long:\n",
    "def torch_zero():\n",
    "    x = torch.zeros(5, 3, dtype=torch.long)\n",
    "    print(x)\n",
    "    \n",
    "torch_zero()"
   ]
  },
  {
   "cell_type": "code",
   "execution_count": 12,
   "metadata": {},
   "outputs": [
    {
     "name": "stdout",
     "output_type": "stream",
     "text": [
      "tensor([5.5000, 3.0000])\n"
     ]
    }
   ],
   "source": [
    "# Construct a tensor directly from data:\n",
    "def create_tensor():\n",
    "    x = torch.tensor([5.5, 3])\n",
    "    print(x)\n",
    "    return x\n",
    "    \n",
    "x = create_tensor()"
   ]
  },
  {
   "cell_type": "code",
   "execution_count": 13,
   "metadata": {},
   "outputs": [
    {
     "name": "stdout",
     "output_type": "stream",
     "text": [
      "tensor([[1., 1., 1.],\n",
      "        [1., 1., 1.],\n",
      "        [1., 1., 1.],\n",
      "        [1., 1., 1.],\n",
      "        [1., 1., 1.]], dtype=torch.float64)\n"
     ]
    }
   ],
   "source": [
    "# Create a tensor based on an existing tensor.\n",
    "def create_new_ones(x):\n",
    "    # new_* methods take in sizes\n",
    "    x = x.new_ones(5, 3, dtype=torch.double)\n",
    "    print(x)\n",
    "    return x\n",
    "\n",
    "x = create_new_ones(x)"
   ]
  },
  {
   "cell_type": "code",
   "execution_count": 15,
   "metadata": {},
   "outputs": [
    {
     "name": "stdout",
     "output_type": "stream",
     "text": [
      "tensor([[-0.1173, -0.1209,  1.1584],\n",
      "        [-0.3393, -0.4896, -1.7425],\n",
      "        [ 0.9215, -0.1113,  1.5625],\n",
      "        [ 0.7111,  0.9540,  0.1860],\n",
      "        [ 0.8744,  0.4614,  1.2320]])\n"
     ]
    }
   ],
   "source": [
    "# These methods will reuse properties of the input tensor, e.g. dtype, unless new values are provided by user\n",
    "def create_randn_like(x):\n",
    "    x = x.new_ones(5, 3, dtype=torch.double)\n",
    "    # override dtype!\n",
    "    x = torch.randn_like(x, dtype=torch.float)\n",
    "    print(x)\n",
    "    return x\n",
    "\n",
    "x = create_randn_like(x)"
   ]
  },
  {
   "cell_type": "code",
   "execution_count": 18,
   "metadata": {},
   "outputs": [
    {
     "name": "stdout",
     "output_type": "stream",
     "text": [
      "torch.Size([5, 3])\n"
     ]
    }
   ],
   "source": [
    "# Get its size:\n",
    "def get_size(x):\n",
    "    # torch.Size is in fact a tuple, so it supports all tuple operations.\n",
    "    print(x.size())\n",
    "    \n",
    "get_size(x)"
   ]
  },
  {
   "cell_type": "markdown",
   "metadata": {},
   "source": [
    "### Operations\n",
    "\n",
    "There are multiple syntaxes for operations. In the following example, we will take a look at the addition operation."
   ]
  },
  {
   "cell_type": "code",
   "execution_count": 22,
   "metadata": {},
   "outputs": [
    {
     "name": "stdout",
     "output_type": "stream",
     "text": [
      "tensor([[ 0.5787,  0.4992,  2.1081],\n",
      "        [ 0.2428,  0.3807, -1.7404],\n",
      "        [ 1.0854,  0.6894,  2.3179],\n",
      "        [ 1.6872,  1.0199,  1.0772],\n",
      "        [ 1.2204,  1.1939,  1.9060]])\n",
      "tensor([[ 0.5787,  0.4992,  2.1081],\n",
      "        [ 0.2428,  0.3807, -1.7404],\n",
      "        [ 1.0854,  0.6894,  2.3179],\n",
      "        [ 1.6872,  1.0199,  1.0772],\n",
      "        [ 1.2204,  1.1939,  1.9060]])\n",
      "tensor([[ 0.5787,  0.4992,  2.1081],\n",
      "        [ 0.2428,  0.3807, -1.7404],\n",
      "        [ 1.0854,  0.6894,  2.3179],\n",
      "        [ 1.6872,  1.0199,  1.0772],\n",
      "        [ 1.2204,  1.1939,  1.9060]])\n",
      "tensor([[ 0.5787,  0.4992,  2.1081],\n",
      "        [ 0.2428,  0.3807, -1.7404],\n",
      "        [ 1.0854,  0.6894,  2.3179],\n",
      "        [ 1.6872,  1.0199,  1.0772],\n",
      "        [ 1.2204,  1.1939,  1.9060]])\n"
     ]
    }
   ],
   "source": [
    "# Addition: syntax 1\n",
    "def torch_add(x):\n",
    "    y = torch.rand(5, 3)\n",
    "    print(x + y)\n",
    "    return y\n",
    "    \n",
    "# Addition: syntax 2\n",
    "def torch_add2(x, y):\n",
    "    print(torch.add(x, y))\n",
    "    \n",
    "# Addition: providing an output tensor as argument\n",
    "def torch_add3(x, y):\n",
    "    result = torch.empty(5, 3)\n",
    "    torch.add(x, y, out=result)\n",
    "    print(result)\n",
    "    \n",
    "# Addition: in-place\n",
    "def torch_add4(x, y):\n",
    "    # adds x to y\n",
    "    y.add_(x)\n",
    "    print(y)\n",
    "    \n",
    "y = torch_add(x)\n",
    "torch_add2(x, y)\n",
    "torch_add3(x, y)\n",
    "\n",
    "# Any operation that mutates a tensor in-place is post-fixed with an _. For example: x.copy_(y), x.t_(), will change x.\n",
    "torch_add4(x, y)"
   ]
  },
  {
   "cell_type": "code",
   "execution_count": 23,
   "metadata": {},
   "outputs": [
    {
     "name": "stdout",
     "output_type": "stream",
     "text": [
      "tensor([-0.1209, -0.4896, -0.1113,  0.9540,  0.4614])\n"
     ]
    }
   ],
   "source": [
    "print(x[:, 1])"
   ]
  },
  {
   "cell_type": "code",
   "execution_count": 24,
   "metadata": {},
   "outputs": [
    {
     "name": "stdout",
     "output_type": "stream",
     "text": [
      "torch.Size([4, 4]) torch.Size([16]) torch.Size([2, 8])\n"
     ]
    }
   ],
   "source": [
    "# Resizing: If you want to resize/reshape tensor, you can use torch.view:\n",
    "def torch_resize():\n",
    "    x = torch.randn(4, 4)\n",
    "    y = x.view(16)\n",
    "    z = x.view(-1, 8)  # the size -1 is inferred from other dimensions\n",
    "    print(x.size(), y.size(), z.size())\n",
    "\n",
    "torch_resize()"
   ]
  },
  {
   "cell_type": "code",
   "execution_count": 25,
   "metadata": {},
   "outputs": [
    {
     "name": "stdout",
     "output_type": "stream",
     "text": [
      "tensor([0.4473])\n",
      "0.44726213812828064\n"
     ]
    }
   ],
   "source": [
    "# If you have a one element tensor, use .item() to get the value as a Python number\n",
    "def torch_item():\n",
    "    x = torch.randn(1)\n",
    "    print(x)\n",
    "    print(x.item())\n",
    "    \n",
    "torch_item()"
   ]
  },
  {
   "cell_type": "markdown",
   "metadata": {},
   "source": [
    "### NumPy Bridge\n",
    "\n",
    "Converting a Torch Tensor to a NumPy array and vice versa is a breeze.\n",
    "\n",
    "The Torch Tensor and NumPy array will share their underlying memory locations (if the Torch Tensor is on CPU), and changing one will change the other."
   ]
  },
  {
   "cell_type": "code",
   "execution_count": 28,
   "metadata": {},
   "outputs": [
    {
     "name": "stdout",
     "output_type": "stream",
     "text": [
      "tensor([1., 1., 1., 1., 1.])\n",
      "[1. 1. 1. 1. 1.]\n"
     ]
    }
   ],
   "source": [
    "# Converting a Torch Tensor to a NumPy Array\n",
    "def covert_torch():\n",
    "    a = torch.ones(5)\n",
    "    print(a)\n",
    "    return a\n",
    "\n",
    "def convert_numpy(a):\n",
    "    b = a.numpy()\n",
    "    print(b)\n",
    "    return b\n",
    "    \n",
    "a = covert_torch()\n",
    "b = convert_numpy(a)"
   ]
  },
  {
   "cell_type": "code",
   "execution_count": 29,
   "metadata": {},
   "outputs": [
    {
     "name": "stdout",
     "output_type": "stream",
     "text": [
      "tensor([2., 2., 2., 2., 2.])\n",
      "[2. 2. 2. 2. 2.]\n"
     ]
    }
   ],
   "source": [
    "# See how the numpy array changed in value.\n",
    "def add_torch_numpy():\n",
    "    a.add_(1)\n",
    "    print(a)\n",
    "    print(b)\n",
    "\n",
    "add_torch_numpy()"
   ]
  },
  {
   "cell_type": "code",
   "execution_count": 30,
   "metadata": {},
   "outputs": [
    {
     "name": "stdout",
     "output_type": "stream",
     "text": [
      "[2. 2. 2. 2. 2.]\n",
      "tensor([2., 2., 2., 2., 2.], dtype=torch.float64)\n"
     ]
    }
   ],
   "source": [
    "# Converting NumPy Array to Torch Tensor\n",
    "# See how changing the np array changed the Torch Tensor automatically\n",
    "def convert_numpy2():\n",
    "    import numpy as np\n",
    "    a = np.ones(5)\n",
    "    b = torch.from_numpy(a)\n",
    "    np.add(a, 1, out=a)\n",
    "    print(a)\n",
    "    print(b)\n",
    "    \n",
    "# All the Tensors on the CPU except a CharTensor support converting to NumPy and back.\n",
    "convert_numpy2()"
   ]
  },
  {
   "cell_type": "markdown",
   "metadata": {},
   "source": [
    "### CUDA Tensors\n",
    "\n",
    "Tensors can be moved onto any device using the `.to` method."
   ]
  },
  {
   "cell_type": "code",
   "execution_count": 31,
   "metadata": {},
   "outputs": [],
   "source": [
    "def cuda_tensor():\n",
    "    # let us run this cell only if CUDA is available\n",
    "    # We will use ``torch.device`` objects to move tensors in and out of GPU\n",
    "    if torch.cuda.is_available():\n",
    "        device = torch.device(\"cuda\")          # a CUDA device object\n",
    "        y = torch.ones_like(x, device=device)  # directly create a tensor on GPU\n",
    "        x = x.to(device)                       # or just use strings ``.to(\"cuda\")``\n",
    "        z = x + y\n",
    "        print(z)\n",
    "        print(z.to(\"cpu\", torch.double))       # ``.to`` can also change dtype together!\n",
    "        \n",
    "cuda_tensor()"
   ]
  },
  {
   "cell_type": "code",
   "execution_count": null,
   "metadata": {},
   "outputs": [],
   "source": []
  }
 ],
 "metadata": {
  "kernelspec": {
   "display_name": "Python 3",
   "language": "python",
   "name": "python3"
  },
  "language_info": {
   "codemirror_mode": {
    "name": "ipython",
    "version": 3
   },
   "file_extension": ".py",
   "mimetype": "text/x-python",
   "name": "python",
   "nbconvert_exporter": "python",
   "pygments_lexer": "ipython3",
   "version": "3.7.4"
  }
 },
 "nbformat": 4,
 "nbformat_minor": 4
}
